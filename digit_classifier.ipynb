{
 "cells": [
  {
   "cell_type": "markdown",
   "metadata": {},
   "source": [
    "# Digit Classifier\n",
    "#### by James Butcher\n",
    "##### November 11, 2020\n",
    "\n",
    "##### A Convolutional Neural Network that learns to classify handwritten digits from the MNIST data set\n",
    "\n",
    "I am using this as a simple practice project for implementing a CNN and comparing the results of different architectures and hyperparameters.\n",
    "\n",
    "I referred to the following youtube video for getting the basics up and running:\n",
    "https://www.youtube.com/watch?v=OMDn66kM9Qc\n",
    "I also borrowed from the lecture slides from Coursera's ASU:CSE 571 - Artificial Intelligence lecture video - week 5, Video: Identifying Digits with a CNN.\n"
   ]
  },
  {
   "cell_type": "code",
   "execution_count": 1,
   "metadata": {},
   "outputs": [],
   "source": [
    "import matplotlib.pyplot as plt\n",
    "import numpy as np\n",
    "import time\n",
    "import torch\n",
    "import torch.nn as nn\n",
    "import torch.nn.functional as F\n",
    "from torch import optim\n",
    "from torchvision import datasets, transforms\n",
    "from torch.utils.data import random_split, DataLoader"
   ]
  },
  {
   "cell_type": "markdown",
   "metadata": {},
   "source": [
    "### Network parameters:"
   ]
  },
  {
   "cell_type": "code",
   "execution_count": 2,
   "metadata": {},
   "outputs": [],
   "source": [
    "in_channels = 1\n",
    "conv1_channels = 8\n",
    "conv2_channels = 16\n",
    "fc_hidden = 64\n",
    "\n",
    "num_classes = 10"
   ]
  },
  {
   "cell_type": "markdown",
   "metadata": {},
   "source": [
    "### Network architecture (without dropout)"
   ]
  },
  {
   "cell_type": "code",
   "execution_count": 3,
   "metadata": {},
   "outputs": [],
   "source": [
    "class CNN_mnist(nn.Module):\n",
    "    def __init__(self):\n",
    "        super(CNN_mnist, self).__init__()\n",
    "        self.conv1 = nn.Conv2d(in_channels, conv1_channels, kernel_size=3, padding=1, stride=1)\n",
    "        self.conv2 = nn.Conv2d(conv1_channels, conv2_channels, kernel_size=5, padding=2, stride=1)\n",
    "        self.fc1 = nn.Linear(conv2_channels*7*7, fc_hidden)\n",
    "        self.fc2 = nn.Linear(fc_hidden, num_classes)\n",
    "        \n",
    "    def forward(self, x):\n",
    "        # Convolutional + max pooling layer 1\n",
    "        x = F.relu(self.conv1(x))\n",
    "        x = F.max_pool2d(x, kernel_size=2, stride=2, padding=0)\n",
    "        \n",
    "        # Convolutional + max pooling layer 2\n",
    "        x = F.relu(self.conv2(x))\n",
    "        x = F.max_pool2d(x, kernel_size=2, stride=2, padding=0)\n",
    "        \n",
    "        # Flatten\n",
    "        x = x.view(-1, conv2_channels*7*7)\n",
    "        \n",
    "        # Fully connected layer 1\n",
    "        x = F.relu(self.fc1(x))\n",
    "        \n",
    "        # Fully connected layer 2\n",
    "        x = self.fc2(x)\n",
    "    \n",
    "        # Softmax output\n",
    "        output = F.log_softmax(x, dim=1)\n",
    "        \n",
    "        return output"
   ]
  },
  {
   "cell_type": "markdown",
   "metadata": {},
   "source": [
    "### Network architecture (with dropout)"
   ]
  },
  {
   "cell_type": "code",
   "execution_count": 4,
   "metadata": {},
   "outputs": [],
   "source": [
    "dropout_probability = 0.5"
   ]
  },
  {
   "cell_type": "code",
   "execution_count": 5,
   "metadata": {},
   "outputs": [],
   "source": [
    "class CNN_mnist_dropout(nn.Module):\n",
    "    \n",
    "    def __init__(self):\n",
    "        super(CNN_mnist_dropout, self).__init__()\n",
    "        self.conv1 = nn.Conv2d(in_channels, conv1_channels, kernel_size=3, padding=1, stride=1)\n",
    "        self.conv2 = nn.Conv2d(conv1_channels, conv2_channels, kernel_size=5, padding=2, stride=1)\n",
    "        self.dropout = nn.Dropout2d(p=dropout_probability)\n",
    "        self.fc1 = nn.Linear(conv2_channels*7*7, fc_hidden)\n",
    "        self.fc2 = nn.Linear(fc_hidden, num_classes)\n",
    "        \n",
    "    def forward(self, x):\n",
    "        # Convolutional + max pooling layer 1\n",
    "        x = F.relu(self.conv1(x))\n",
    "        x = F.max_pool2d(x, kernel_size=2, stride=2, padding=0)\n",
    "        x = self.dropout(x)\n",
    "        \n",
    "        # Convolutional + max pooling layer 2\n",
    "        x = F.relu(self.conv2(x))\n",
    "        x = F.max_pool2d(x, kernel_size=2, stride=2, padding=0)\n",
    "        x = self.dropout(x)\n",
    "        \n",
    "        # Flatten\n",
    "        x = x.view(-1, conv2_channels*7*7)\n",
    "        \n",
    "        # Fully connected layer 1\n",
    "        x = F.relu(self.fc1(x))\n",
    "        \n",
    "        # Fully connected layer 2\n",
    "        x = self.fc2(x)\n",
    "    \n",
    "        # Softmax output\n",
    "        output = F.log_softmax(x, dim=1)\n",
    "        \n",
    "        return output"
   ]
  },
  {
   "cell_type": "markdown",
   "metadata": {},
   "source": [
    "### Define model, optimizer, and loss function"
   ]
  },
  {
   "cell_type": "code",
   "execution_count": 6,
   "metadata": {},
   "outputs": [],
   "source": [
    "# Initialize models\n",
    "model_without_dropout = CNN_mnist()\n",
    "model_with_dropout = CNN_mnist_dropout()"
   ]
  },
  {
   "cell_type": "code",
   "execution_count": 7,
   "metadata": {},
   "outputs": [],
   "source": [
    "# Define Optimizers\n",
    "learning_rate = 0.001\n",
    "optimizer_without_dropout = optim.SGD(model_without_dropout.parameters(), lr=learning_rate)\n",
    "optimizer_with_dropout = optim.SGD(model_with_dropout.parameters(), lr=learning_rate)"
   ]
  },
  {
   "cell_type": "code",
   "execution_count": 8,
   "metadata": {},
   "outputs": [],
   "source": [
    "# Define Loss Function\n",
    "loss = nn.CrossEntropyLoss()"
   ]
  },
  {
   "cell_type": "markdown",
   "metadata": {},
   "source": [
    "### Pre-process data"
   ]
  },
  {
   "cell_type": "code",
   "execution_count": 9,
   "metadata": {},
   "outputs": [],
   "source": [
    "mnist_data = datasets.MNIST('mnist_data', train=True, download=True, transform=transforms.ToTensor())\n",
    "train, test = random_split(mnist_data, [50000, 10000])\n",
    "train_loader = DataLoader(train, batch_size=32)\n",
    "test_loader = DataLoader(test, batch_size=32)"
   ]
  },
  {
   "cell_type": "markdown",
   "metadata": {},
   "source": [
    "### Train model"
   ]
  },
  {
   "cell_type": "code",
   "execution_count": 10,
   "metadata": {},
   "outputs": [],
   "source": [
    "def train_model(model, epochs, optimizer, loss, train_loader, test_loader):\n",
    "    start_time = time.time()\n",
    "    train_losses_over_epochs = []\n",
    "    test_losses_over_epochs = []\n",
    "    for epoch in range(epochs):\n",
    "        train_losses = []\n",
    "        for batch in train_loader:\n",
    "            x, y = batch\n",
    "\n",
    "            # Feedforward the input images\n",
    "            output = model(x)\n",
    "\n",
    "            # Compute the loss\n",
    "            l = loss(output, y)\n",
    "            train_losses.append(l.item())\n",
    "\n",
    "            # Compute the gradients\n",
    "            model.zero_grad()\n",
    "            l.backward()\n",
    "\n",
    "            # Update the weights\n",
    "            optimizer.step()\n",
    "\n",
    "        print(\"Epoch {:>2}  --  Train Loss: {:.4f}\".format(epoch+1, torch.tensor(train_losses).mean()), end=\"  \")\n",
    "        train_losses_over_epochs.append(torch.tensor(train_losses).mean())\n",
    "\n",
    "        # Evaluate model\n",
    "        test_losses = []\n",
    "        for batch in test_loader:\n",
    "            x, y = batch\n",
    "\n",
    "            with torch.no_grad():\n",
    "                output = model(x)\n",
    "\n",
    "            l = loss(output, y)\n",
    "\n",
    "            test_losses.append(l.item())\n",
    "        print(\"Test Loss: {:.4f}\".format(torch.tensor(test_losses).mean()))\n",
    "        test_losses_over_epochs.append(torch.tensor(test_losses).mean())\n",
    "\n",
    "    end_time = time.time()\n",
    "    print(\"Total training and evaluation time:{:.2f} seconds\".format(end_time - start_time))\n",
    "    return train_losses_over_epochs, test_losses_over_epochs"
   ]
  },
  {
   "cell_type": "markdown",
   "metadata": {},
   "source": [
    "### Calculate Accuracy"
   ]
  },
  {
   "cell_type": "code",
   "execution_count": 11,
   "metadata": {},
   "outputs": [],
   "source": [
    "def calculate_accuracy(model, test):\n",
    "    num_matches = 0\n",
    "    evaluation_loader = DataLoader(test, batch_size=1)\n",
    "    for sample in evaluation_loader:\n",
    "        x, y = sample\n",
    "\n",
    "        with torch.no_grad():\n",
    "            output = np.argmax(model(x))\n",
    "    \n",
    "        if output == y:\n",
    "            num_matches += 1\n",
    "    \n",
    "    accuracy = num_matches / len(test)\n",
    "    print(\"Final accuracy: {:.2f} %\".format(accuracy*100))"
   ]
  },
  {
   "cell_type": "markdown",
   "metadata": {},
   "source": [
    "### Plot training losses"
   ]
  },
  {
   "cell_type": "code",
   "execution_count": 12,
   "metadata": {},
   "outputs": [],
   "source": [
    "def plot_losses(train_losses_over_epochs, test_losses_over_epochs):\n",
    "    x_values = np.arange(1, len(train_losses_over_epochs) + 1)\n",
    "    train_values = np.array(train_losses_over_epochs)\n",
    "    test_values = np.array(test_losses_over_epochs)\n",
    "    plt.xlabel(\"Epoch\")\n",
    "    plt.ylabel(\"Loss\")\n",
    "    plt.plot(x_values, train_values, 'r', label='Training Loss')\n",
    "    plt.plot(x_values, test_values, 'b', label='Testing Loss')\n",
    "    plt.legend()\n",
    "    plt.show()"
   ]
  },
  {
   "cell_type": "markdown",
   "metadata": {},
   "source": [
    "# Run the classifier"
   ]
  },
  {
   "cell_type": "code",
   "execution_count": 15,
   "metadata": {},
   "outputs": [],
   "source": [
    "epochs = 30"
   ]
  },
  {
   "cell_type": "markdown",
   "metadata": {},
   "source": [
    "### Without dropout:"
   ]
  },
  {
   "cell_type": "code",
   "execution_count": 16,
   "metadata": {},
   "outputs": [
    {
     "name": "stdout",
     "output_type": "stream",
     "text": [
      "Epoch  1  --  Train Loss: 2.2954  Test Loss: 2.2886\n",
      "Epoch  2  --  Train Loss: 2.2775  Test Loss: 2.2609\n",
      "Epoch  3  --  Train Loss: 2.2127  Test Loss: 2.1206\n",
      "Epoch  4  --  Train Loss: 1.6740  Test Loss: 0.9861\n",
      "Epoch  5  --  Train Loss: 0.6585  Test Loss: 0.4881\n",
      "Epoch  6  --  Train Loss: 0.4233  Test Loss: 0.3784\n",
      "Epoch  7  --  Train Loss: 0.3484  Test Loss: 0.3281\n",
      "Epoch  8  --  Train Loss: 0.3070  Test Loss: 0.2955\n",
      "Epoch  9  --  Train Loss: 0.2780  Test Loss: 0.2714\n",
      "Epoch 10  --  Train Loss: 0.2552  Test Loss: 0.2514\n",
      "Epoch 11  --  Train Loss: 0.2359  Test Loss: 0.2343\n",
      "Epoch 12  --  Train Loss: 0.2196  Test Loss: 0.2195\n",
      "Epoch 13  --  Train Loss: 0.2054  Test Loss: 0.2065\n",
      "Epoch 14  --  Train Loss: 0.1929  Test Loss: 0.1949\n",
      "Epoch 15  --  Train Loss: 0.1819  Test Loss: 0.1845\n",
      "Epoch 16  --  Train Loss: 0.1721  Test Loss: 0.1751\n",
      "Epoch 17  --  Train Loss: 0.1632  Test Loss: 0.1666\n",
      "Epoch 18  --  Train Loss: 0.1553  Test Loss: 0.1588\n",
      "Epoch 19  --  Train Loss: 0.1481  Test Loss: 0.1519\n",
      "Epoch 20  --  Train Loss: 0.1416  Test Loss: 0.1457\n",
      "Epoch 21  --  Train Loss: 0.1358  Test Loss: 0.1400\n",
      "Epoch 22  --  Train Loss: 0.1305  Test Loss: 0.1349\n",
      "Epoch 23  --  Train Loss: 0.1256  Test Loss: 0.1301\n",
      "Epoch 24  --  Train Loss: 0.1211  Test Loss: 0.1259\n",
      "Epoch 25  --  Train Loss: 0.1170  Test Loss: 0.1220\n",
      "Epoch 26  --  Train Loss: 0.1132  Test Loss: 0.1185\n",
      "Epoch 27  --  Train Loss: 0.1097  Test Loss: 0.1151\n",
      "Epoch 28  --  Train Loss: 0.1064  Test Loss: 0.1120\n",
      "Epoch 29  --  Train Loss: 0.1034  Test Loss: 0.1091\n",
      "Epoch 30  --  Train Loss: 0.1005  Test Loss: 0.1065\n",
      "Total training and evaluation time:647.32 seconds\n"
     ]
    }
   ],
   "source": [
    "train_losses_over_epochs, test_losses_over_epochs = train_model(model_without_dropout, \n",
    "                                                                epochs, optimizer_without_dropout, loss, \n",
    "                                                                train_loader, test_loader)"
   ]
  },
  {
   "cell_type": "code",
   "execution_count": 17,
   "metadata": {},
   "outputs": [
    {
     "name": "stdout",
     "output_type": "stream",
     "text": [
      "Final accuracy: 96.90 %\n"
     ]
    }
   ],
   "source": [
    "calculate_accuracy(model_without_dropout, test)"
   ]
  },
  {
   "cell_type": "code",
   "execution_count": 18,
   "metadata": {
    "scrolled": true
   },
   "outputs": [
    {
     "data": {
      "image/png": "[encoded data removed]",
      "text/plain": [
       "<Figure size 432x288 with 1 Axes>"
      ]
     },
     "metadata": {
      "needs_background": "light"
     },
     "output_type": "display_data"
    }
   ],
   "source": [
    "plot_losses(train_losses_over_epochs, test_losses_over_epochs)"
   ]
  },
  {
   "cell_type": "markdown",
   "metadata": {},
   "source": [
    "### With dropout:"
   ]
  },
  {
   "cell_type": "code",
   "execution_count": 19,
   "metadata": {
    "scrolled": false
   },
   "outputs": [
    {
     "name": "stdout",
     "output_type": "stream",
     "text": [
      "Epoch  1  --  Train Loss: 2.3035  Test Loss: 2.3005\n",
      "Epoch  2  --  Train Loss: 2.2951  Test Loss: 2.2901\n",
      "Epoch  3  --  Train Loss: 2.2805  Test Loss: 2.2679\n",
      "Epoch  4  --  Train Loss: 2.2323  Test Loss: 2.1680\n",
      "Epoch  5  --  Train Loss: 1.9513  Test Loss: 1.6343\n",
      "Epoch  6  --  Train Loss: 1.3335  Test Loss: 1.1306\n",
      "Epoch  7  --  Train Loss: 1.0115  Test Loss: 0.9209\n",
      "Epoch  8  --  Train Loss: 0.8697  Test Loss: 0.8141\n",
      "Epoch  9  --  Train Loss: 0.7695  Test Loss: 0.7310\n",
      "Epoch 10  --  Train Loss: 0.6951  Test Loss: 0.7027\n",
      "Epoch 11  --  Train Loss: 0.6431  Test Loss: 0.6275\n",
      "Epoch 12  --  Train Loss: 0.5957  Test Loss: 0.5825\n",
      "Epoch 13  --  Train Loss: 0.5584  Test Loss: 0.5442\n",
      "Epoch 14  --  Train Loss: 0.5289  Test Loss: 0.5430\n",
      "Epoch 15  --  Train Loss: 0.5004  Test Loss: 0.5199\n",
      "Epoch 16  --  Train Loss: 0.4828  Test Loss: 0.4830\n",
      "Epoch 17  --  Train Loss: 0.4632  Test Loss: 0.4766\n",
      "Epoch 18  --  Train Loss: 0.4481  Test Loss: 0.4435\n",
      "Epoch 19  --  Train Loss: 0.4277  Test Loss: 0.4332\n",
      "Epoch 20  --  Train Loss: 0.4155  Test Loss: 0.4181\n",
      "Epoch 21  --  Train Loss: 0.4006  Test Loss: 0.4043\n",
      "Epoch 22  --  Train Loss: 0.3873  Test Loss: 0.4104\n",
      "Epoch 23  --  Train Loss: 0.3742  Test Loss: 0.3853\n",
      "Epoch 24  --  Train Loss: 0.3646  Test Loss: 0.3721\n",
      "Epoch 25  --  Train Loss: 0.3504  Test Loss: 0.3762\n",
      "Epoch 26  --  Train Loss: 0.3401  Test Loss: 0.3487\n",
      "Epoch 27  --  Train Loss: 0.3288  Test Loss: 0.3335\n",
      "Epoch 28  --  Train Loss: 0.3180  Test Loss: 0.3271\n",
      "Epoch 29  --  Train Loss: 0.3053  Test Loss: 0.3144\n",
      "Epoch 30  --  Train Loss: 0.2944  Test Loss: 0.3057\n",
      "Total training and evaluation time:767.89 seconds\n"
     ]
    }
   ],
   "source": [
    "train_losses_over_epochs, test_losses_over_epochs = train_model(model_with_dropout, \n",
    "                                                                epochs, optimizer_with_dropout, loss, \n",
    "                                                                train_loader, test_loader)"
   ]
  },
  {
   "cell_type": "code",
   "execution_count": 20,
   "metadata": {},
   "outputs": [
    {
     "name": "stdout",
     "output_type": "stream",
     "text": [
      "Final accuracy: 92.06 %\n"
     ]
    }
   ],
   "source": [
    "calculate_accuracy(model_with_dropout, test)"
   ]
  },
  {
   "cell_type": "code",
   "execution_count": 21,
   "metadata": {},
   "outputs": [
    {
     "data": {
      "image/png": "[encoded data removed]",
      "text/plain": [
       "<Figure size 432x288 with 1 Axes>"
      ]
     },
     "metadata": {
      "needs_background": "light"
     },
     "output_type": "display_data"
    }
   ],
   "source": [
    "plot_losses(train_losses_over_epochs, test_losses_over_epochs)"
   ]
  },
  {
   "cell_type": "markdown",
   "metadata": {},
   "source": [
    "### Notes - 11-12-2020:\n",
    "- Using dropout caused the model to take longer to optimize.\n",
    "- The final accuracy was 92.06% with dropout compared to 96.90% without dropout after training for 30 epochs.\n",
    "\n",
    "- Question: Why is there no evidence of overfitting in both cases? Why doesn't the testing loss begin to increase at some point while the training loss plateaus? This is what dropout is supposed to mitigate.\n",
    "    - Maybe the model has too few parameters? Maybe accuracy can be improved by increasing the number of layers and/or channels.\n",
    "    - Maybe the dataset is sufficiently large. I could try using a smaller subset of the data: "
   ]
  },
  {
   "cell_type": "markdown",
   "metadata": {},
   "source": [
    "### Try to demonstrate overfitting by using a smaller chunk of the dataset"
   ]
  },
  {
   "cell_type": "code",
   "execution_count": 41,
   "metadata": {},
   "outputs": [],
   "source": [
    "subset, _ = random_split(mnist_data, [6000, 54000])\n",
    "small_train, small_test = random_split(subset, [5000, 1000])\n",
    "small_train_loader = DataLoader(small_train, batch_size=10)\n",
    "small_test_loader = DataLoader(small_test, batch_size=10)"
   ]
  },
  {
   "cell_type": "markdown",
   "metadata": {},
   "source": [
    "### Without dropout"
   ]
  },
  {
   "cell_type": "code",
   "execution_count": 42,
   "metadata": {},
   "outputs": [
    {
     "name": "stdout",
     "output_type": "stream",
     "text": [
      "Epoch  1  --  Train Loss: 0.1259  Test Loss: 0.1234\n",
      "Epoch  2  --  Train Loss: 0.0974  Test Loss: 0.1148\n",
      "Epoch  3  --  Train Loss: 0.0844  Test Loss: 0.1088\n",
      "Epoch  4  --  Train Loss: 0.0764  Test Loss: 0.1058\n",
      "Epoch  5  --  Train Loss: 0.0708  Test Loss: 0.1039\n",
      "Epoch  6  --  Train Loss: 0.0663  Test Loss: 0.1028\n",
      "Epoch  7  --  Train Loss: 0.0626  Test Loss: 0.1016\n",
      "Epoch  8  --  Train Loss: 0.0595  Test Loss: 0.1009\n",
      "Epoch  9  --  Train Loss: 0.0568  Test Loss: 0.1005\n",
      "Epoch 10  --  Train Loss: 0.0544  Test Loss: 0.0999\n",
      "Epoch 11  --  Train Loss: 0.0522  Test Loss: 0.0993\n",
      "Epoch 12  --  Train Loss: 0.0502  Test Loss: 0.0987\n",
      "Epoch 13  --  Train Loss: 0.0485  Test Loss: 0.0985\n",
      "Epoch 14  --  Train Loss: 0.0468  Test Loss: 0.0983\n",
      "Epoch 15  --  Train Loss: 0.0451  Test Loss: 0.0982\n",
      "Epoch 16  --  Train Loss: 0.0436  Test Loss: 0.0980\n",
      "Epoch 17  --  Train Loss: 0.0422  Test Loss: 0.0977\n",
      "Epoch 18  --  Train Loss: 0.0409  Test Loss: 0.0974\n",
      "Epoch 19  --  Train Loss: 0.0396  Test Loss: 0.0978\n",
      "Epoch 20  --  Train Loss: 0.0384  Test Loss: 0.0974\n",
      "Epoch 21  --  Train Loss: 0.0373  Test Loss: 0.0976\n",
      "Epoch 22  --  Train Loss: 0.0363  Test Loss: 0.0975\n",
      "Epoch 23  --  Train Loss: 0.0352  Test Loss: 0.0977\n",
      "Epoch 24  --  Train Loss: 0.0343  Test Loss: 0.0979\n",
      "Epoch 25  --  Train Loss: 0.0333  Test Loss: 0.0976\n",
      "Epoch 26  --  Train Loss: 0.0324  Test Loss: 0.0980\n",
      "Epoch 27  --  Train Loss: 0.0316  Test Loss: 0.0981\n",
      "Epoch 28  --  Train Loss: 0.0308  Test Loss: 0.0980\n",
      "Epoch 29  --  Train Loss: 0.0300  Test Loss: 0.0984\n",
      "Epoch 30  --  Train Loss: 0.0292  Test Loss: 0.0984\n",
      "Total training and evaluation time:99.81 seconds\n"
     ]
    }
   ],
   "source": [
    "train_losses_over_epochs, test_losses_over_epochs = train_model(model_without_dropout, \n",
    "                                                                epochs, optimizer_without_dropout, loss, \n",
    "                                                                small_train_loader, small_test_loader)"
   ]
  },
  {
   "cell_type": "code",
   "execution_count": 43,
   "metadata": {},
   "outputs": [
    {
     "name": "stdout",
     "output_type": "stream",
     "text": [
      "Final accuracy: 96.00 %\n"
     ]
    }
   ],
   "source": [
    "calculate_accuracy(model_without_dropout, small_test)"
   ]
  },
  {
   "cell_type": "code",
   "execution_count": 44,
   "metadata": {},
   "outputs": [
    {
     "data": {
      "image/png": "[encoded data removed]",
      "text/plain": [
       "<Figure size 432x288 with 1 Axes>"
      ]
     },
     "metadata": {
      "needs_background": "light"
     },
     "output_type": "display_data"
    }
   ],
   "source": [
    "plot_losses(train_losses_over_epochs, test_losses_over_epochs)"
   ]
  },
  {
   "cell_type": "markdown",
   "metadata": {},
   "source": [
    "### With dropout"
   ]
  },
  {
   "cell_type": "code",
   "execution_count": 45,
   "metadata": {},
   "outputs": [
    {
     "name": "stdout",
     "output_type": "stream",
     "text": [
      "Epoch  1  --  Train Loss: 0.3138  Test Loss: 0.3278\n",
      "Epoch  2  --  Train Loss: 0.3075  Test Loss: 0.3006\n",
      "Epoch  3  --  Train Loss: 0.2903  Test Loss: 0.3096\n",
      "Epoch  4  --  Train Loss: 0.2601  Test Loss: 0.3171\n",
      "Epoch  5  --  Train Loss: 0.2645  Test Loss: 0.2732\n",
      "Epoch  6  --  Train Loss: 0.2410  Test Loss: 0.2622\n",
      "Epoch  7  --  Train Loss: 0.2402  Test Loss: 0.2571\n",
      "Epoch  8  --  Train Loss: 0.2432  Test Loss: 0.2433\n",
      "Epoch  9  --  Train Loss: 0.2252  Test Loss: 0.2485\n",
      "Epoch 10  --  Train Loss: 0.2400  Test Loss: 0.2600\n",
      "Epoch 11  --  Train Loss: 0.2251  Test Loss: 0.2458\n",
      "Epoch 12  --  Train Loss: 0.2239  Test Loss: 0.2439\n",
      "Epoch 13  --  Train Loss: 0.2196  Test Loss: 0.2541\n",
      "Epoch 14  --  Train Loss: 0.2007  Test Loss: 0.2738\n",
      "Epoch 15  --  Train Loss: 0.2006  Test Loss: 0.2875\n",
      "Epoch 16  --  Train Loss: 0.2182  Test Loss: 0.2465\n",
      "Epoch 17  --  Train Loss: 0.1963  Test Loss: 0.2223\n",
      "Epoch 18  --  Train Loss: 0.1988  Test Loss: 0.2603\n",
      "Epoch 19  --  Train Loss: 0.1990  Test Loss: 0.2402\n",
      "Epoch 20  --  Train Loss: 0.1896  Test Loss: 0.2299\n",
      "Epoch 21  --  Train Loss: 0.1823  Test Loss: 0.2613\n",
      "Epoch 22  --  Train Loss: 0.1861  Test Loss: 0.2379\n",
      "Epoch 23  --  Train Loss: 0.1929  Test Loss: 0.2382\n",
      "Epoch 24  --  Train Loss: 0.1893  Test Loss: 0.2196\n",
      "Epoch 25  --  Train Loss: 0.1826  Test Loss: 0.2270\n",
      "Epoch 26  --  Train Loss: 0.1638  Test Loss: 0.2367\n",
      "Epoch 27  --  Train Loss: 0.1776  Test Loss: 0.2570\n",
      "Epoch 28  --  Train Loss: 0.1708  Test Loss: 0.2233\n",
      "Epoch 29  --  Train Loss: 0.1664  Test Loss: 0.2352\n",
      "Epoch 30  --  Train Loss: 0.1645  Test Loss: 0.2289\n",
      "Total training and evaluation time:100.67 seconds\n"
     ]
    }
   ],
   "source": [
    "train_losses_over_epochs, test_losses_over_epochs = train_model(model_with_dropout, \n",
    "                                                                epochs, optimizer_with_dropout, loss, \n",
    "                                                                small_train_loader, small_test_loader)"
   ]
  },
  {
   "cell_type": "code",
   "execution_count": 46,
   "metadata": {},
   "outputs": [
    {
     "name": "stdout",
     "output_type": "stream",
     "text": [
      "Final accuracy: 93.40 %\n"
     ]
    }
   ],
   "source": [
    "calculate_accuracy(model_with_dropout, small_test)"
   ]
  },
  {
   "cell_type": "code",
   "execution_count": 47,
   "metadata": {},
   "outputs": [
    {
     "data": {
      "image/png": "[encoded data removed]",
      "text/plain": [
       "<Figure size 432x288 with 1 Axes>"
      ]
     },
     "metadata": {
      "needs_background": "light"
     },
     "output_type": "display_data"
    }
   ],
   "source": [
    "plot_losses(train_losses_over_epochs, test_losses_over_epochs)"
   ]
  },
  {
   "cell_type": "markdown",
   "metadata": {},
   "source": [
    "- It didn't work. I have no idea why these two results look this way. I must come back to this after I learn and practice more."
   ]
  }
 ],
 "metadata": {
  "kernelspec": {
   "display_name": "Python 3",
   "language": "python",
   "name": "python3"
  },
  "language_info": {
   "codemirror_mode": {
    "name": "ipython",
    "version": 3
   },
   "file_extension": ".py",
   "mimetype": "text/x-python",
   "name": "python",
   "nbconvert_exporter": "python",
   "pygments_lexer": "ipython3",
   "version": "3.7.4"
  }
 },
 "nbformat": 4,
 "nbformat_minor": 4
}
